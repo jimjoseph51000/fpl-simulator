{
 "cells": [
  {
   "cell_type": "code",
   "execution_count": 88,
   "id": "9f6dc58b",
   "metadata": {},
   "outputs": [],
   "source": [
    "import pandas as pd\n",
    "import requests\n",
    "import numpy as np\n",
    "import matplotlib\n",
    "import matplotlib.pyplot as plt\n",
    "import seaborn as sns\n",
    "from sklearn.model_selection import train_test_split\n",
    "from sklearn.linear_model import LinearRegression\n",
    "from sklearn.metrics import mean_squared_error, roc_auc_score, accuracy_score\n",
    "import requests, json\n",
    "from pprint import pprint"
   ]
  },
  {
   "cell_type": "markdown",
   "id": "05176dda",
   "metadata": {},
   "source": [
    "The player data per gameweek does not have the player's type eg: Midfielder, Defender etc associated with it . So the element_type column from the generic bootstrap API has been merged with the week wise player data to map the player's type"
   ]
  },
  {
   "cell_type": "code",
   "execution_count": 4,
   "id": "1526fa83",
   "metadata": {},
   "outputs": [
    {
     "name": "stdout",
     "output_type": "stream",
     "text": [
      "{ 'element_stats': [...],\n",
      "  'element_types': [...],\n",
      "  'elements': [...],\n",
      "  'events': [...],\n",
      "  'game_settings': {...},\n",
      "  'phases': [...],\n",
      "  'teams': [...],\n",
      "  'total_players': 8614100}\n"
     ]
    }
   ],
   "source": [
    "# base url for all FPL API endpoints\n",
    "base_url = 'https://fantasy.premierleague.com/api/'\n",
    "\n",
    "# get data from bootstrap-static endpoint\n",
    "r = requests.get(base_url+'bootstrap-static/').json()\n",
    "\n",
    "# show the top level fields\n",
    "pprint(r, indent=2, depth=1, compact=True)"
   ]
  },
  {
   "cell_type": "code",
   "execution_count": 5,
   "id": "f9507f25",
   "metadata": {},
   "outputs": [],
   "source": [
    "players = r['elements']"
   ]
  },
  {
   "cell_type": "code",
   "execution_count": 6,
   "id": "39b36ef4",
   "metadata": {},
   "outputs": [],
   "source": [
    "players_df = pd.json_normalize(r['elements'])"
   ]
  },
  {
   "cell_type": "code",
   "execution_count": 14,
   "id": "347b8172",
   "metadata": {},
   "outputs": [
    {
     "data": {
      "text/html": [
       "<div>\n",
       "<style scoped>\n",
       "    .dataframe tbody tr th:only-of-type {\n",
       "        vertical-align: middle;\n",
       "    }\n",
       "\n",
       "    .dataframe tbody tr th {\n",
       "        vertical-align: top;\n",
       "    }\n",
       "\n",
       "    .dataframe thead th {\n",
       "        text-align: right;\n",
       "    }\n",
       "</style>\n",
       "<table border=\"1\" class=\"dataframe\">\n",
       "  <thead>\n",
       "    <tr style=\"text-align: right;\">\n",
       "      <th></th>\n",
       "      <th>element_type</th>\n",
       "    </tr>\n",
       "    <tr>\n",
       "      <th>id</th>\n",
       "      <th></th>\n",
       "    </tr>\n",
       "  </thead>\n",
       "  <tbody>\n",
       "    <tr>\n",
       "      <th>0</th>\n",
       "      <td>1</td>\n",
       "    </tr>\n",
       "    <tr>\n",
       "      <th>1</th>\n",
       "      <td>1</td>\n",
       "    </tr>\n",
       "    <tr>\n",
       "      <th>2</th>\n",
       "      <td>3</td>\n",
       "    </tr>\n",
       "    <tr>\n",
       "      <th>3</th>\n",
       "      <td>4</td>\n",
       "    </tr>\n",
       "    <tr>\n",
       "      <th>4</th>\n",
       "      <td>2</td>\n",
       "    </tr>\n",
       "  </tbody>\n",
       "</table>\n",
       "</div>"
      ],
      "text/plain": [
       "    element_type\n",
       "id              \n",
       "0              1\n",
       "1              1\n",
       "2              3\n",
       "3              4\n",
       "4              2"
      ]
     },
     "execution_count": 14,
     "metadata": {},
     "output_type": "execute_result"
    }
   ],
   "source": [
    "df_type = pd.DataFrame(players_df['element_type'])\n",
    "df_type.index.names = ['id']\n",
    "df_type.head()"
   ]
  },
  {
   "cell_type": "markdown",
   "id": "29fe3190",
   "metadata": {},
   "source": [
    "The merged data has been stored in csv files identified by the gaeweek numbers"
   ]
  },
  {
   "cell_type": "code",
   "execution_count": 23,
   "id": "d7d7f077",
   "metadata": {},
   "outputs": [],
   "source": [
    "for i in range(1,11):\n",
    "    try:\n",
    "        r = requests.get(f\"https://fantasy.premierleague.com/api/event/{i}/live/\").json()\n",
    "        gw_player_df = pd.json_normalize(r['elements'])\n",
    "        merged_player_df = pd.merge(gw_player_df, df_type, on=[\"id\"])\n",
    "        #merged_player_df.head()\n",
    "        merged_player_df.to_csv(f\"mergedweek_{i}.csv\")\n",
    "    except Exception as e:\n",
    "        pass"
   ]
  },
  {
   "cell_type": "markdown",
   "id": "331413c6",
   "metadata": {},
   "source": [
    "To create the rankings table of the players the player data is grouped by the element type (Midfielder, Defender etc)\n",
    "and sorted in descending order based on first the points and the points and ict index . The ict index in the data is a combination of the influence, creativity and threat features of the player.\n",
    "\n",
    "Influence determines the player's ability to make an impact on a match either single or throughout the season by taking into account the events that affect the fixture(how well the FPL players perform) by analyzing goals, assists aswell as defensive actions to analyze the effectiveness of goalkeepers and defenders\n",
    "\n",
    "Creativity analyzes the player's ability to produce goalscoring opportunities such as supplying assists.\n",
    "Threat analyzes the player's ability to score goals.\n",
    "\n",
    "As Ict Index combines all the 3 above values it becomes a significant feature in predicting the player's performance \n"
   ]
  },
  {
   "cell_type": "code",
   "execution_count": 33,
   "id": "61ee9954",
   "metadata": {},
   "outputs": [],
   "source": [
    "def common_elements(list1, list2):\n",
    "    return list(set(list1) & set(list2))"
   ]
  },
  {
   "cell_type": "code",
   "execution_count": 43,
   "id": "77b6581b",
   "metadata": {},
   "outputs": [],
   "source": [
    "def store_top_players(df_current_week,df_next_week,mul_points_dict,points_dict):\n",
    "    df_sorted_cur_mul_features = df_current_week.sort_values(['stats.total_points', 'stats.ict_index'], ascending=[False, False])\n",
    "    cur_week_player_ids_mul_features_50 = df_sorted_cur_mul_features['id'].tolist()[:50]\n",
    "    \n",
    "    df_sorted_cur_points = df_current_week.sort_values(['stats.total_points'], ascending=[False])\n",
    "    cur_week_player_ids_points_50 = df_sorted_cur_points['id'].tolist()[:50]\n",
    "    \n",
    "    df_sorted_next_points = df_next_week.sort_values(['stats.total_points'], ascending=[False])\n",
    "    next_week_player_ids_points_50 = df_sorted_next_points['id'].tolist()[:50]\n",
    "\n",
    "    mul_points_dict[i]=len(common_elements(cur_week_player_ids_mul_features_50,next_week_player_ids_points_50))\n",
    "    points_dict[i]=len(common_elements(cur_week_player_ids_points_50,next_week_player_ids_points_50))"
   ]
  },
  {
   "cell_type": "code",
   "execution_count": 108,
   "id": "882d65d7",
   "metadata": {},
   "outputs": [],
   "source": [
    "#common_top_players_points={}\n",
    "def getErrorRate(X_train,Y_train,X_test,Y_test,df_next_week,top_players_dict):\n",
    "    new_pred_df = pd.DataFrame(df_next_week['id'])\n",
    "    #print(\"inside error\")\n",
    "    model_points_pred = LinearRegression()\n",
    "    model_points_pred.fit(X_train, Y_train)\n",
    "    Y_pred_points = model_points_pred.predict(X_test)\n",
    "    #print(points_output)\n",
    "    new_pred_df['points_predicted'] = Y_pred_points\n",
    "    \n",
    "    df_sorted_next_points = new_pred_df.sort_values(['points_predicted'], ascending=[False])\n",
    "    pred_player_ids_points_50 = df_sorted_next_points['id'].tolist()[:50]\n",
    "\n",
    "    df_sorted_next_points = df_next_week.sort_values(['stats.total_points'], ascending=[False])\n",
    "    next_week_player_ids_points_50 = df_sorted_next_points['id'].tolist()[:50]\n",
    "    top_players_dict[i]=len(common_elements(pred_player_ids_points_50,next_week_player_ids_points_50))\n",
    "    #return mean_squared_error(Y_test, Y_pred_points)"
   ]
  },
  {
   "cell_type": "code",
   "execution_count": 109,
   "id": "9190837f",
   "metadata": {},
   "outputs": [],
   "source": [
    "def regression_elem_typewise(df_cur_grp,df_next_grp,top_players_dict):\n",
    "    X_train = df_cur_grp[['stats.bps','stats.ict_index','stats.clean_sheets','stats.goals_scored','stats.goals_conceded']]\n",
    "    Y_train = df_cur_grp['stats.total_points']\n",
    "    X_test = df_next_grp[['stats.bps','stats.ict_index','stats.clean_sheets','stats.goals_scored','stats.goals_conceded']]\n",
    "    Y_test = df_next_grp['stats.total_points']\n",
    "    getErrorRate(X_train,Y_train,X_test,Y_test,df_next_grp,top_players_dict)\n",
    "    #print(error_rate)"
   ]
  },
  {
   "cell_type": "code",
   "execution_count": 111,
   "id": "3e59ed52",
   "metadata": {},
   "outputs": [],
   "source": [
    "common_top_players_cur_mul_points_1 = {}\n",
    "common_top_players_cur_mul_points_2 = {}\n",
    "common_top_players_cur_mul_points_3 = {}\n",
    "common_top_players_cur_mul_points_4 = {}\n",
    "\n",
    "common_top_players_points_1 = {}\n",
    "common_top_players_points_2 = {}\n",
    "common_top_players_points_3 = {}\n",
    "common_top_players_points_4 = {}\n",
    "\n",
    "\n",
    "top_players_pred_1 = {}\n",
    "top_players_pred_2 = {}\n",
    "top_players_pred_3 = {}\n",
    "top_players_pred_4 = {}\n",
    "\n",
    "df_current_week = pd.read_csv(f\"mergedweek_{1}.csv\")\n",
    "grp_cur_type_players = df_current_week.groupby('element_type')\n",
    "df_cur_grp_1 = grp_cur_type_players.get_group(1)\n",
    "df_cur_grp_2 = grp_cur_type_players.get_group(2)\n",
    "df_cur_grp_3 = grp_cur_type_players.get_group(3)\n",
    "df_cur_grp_4 = grp_cur_type_players.get_group(4)\n",
    "for i in range(2,11):\n",
    "    try:\n",
    "        #print(\"inside\")\n",
    "        df_next_week = pd.read_csv(f\"mergedweek_{i}.csv\")\n",
    "        grp_next_type_players = df_next_week.groupby('element_type')\n",
    "        df_next_grp_1 = grp_next_type_players.get_group(1)\n",
    "        df_next_grp_2 = grp_next_type_players.get_group(2)\n",
    "        df_next_grp_3 = grp_next_type_players.get_group(3)\n",
    "        df_next_grp_4 = grp_next_type_players.get_group(4)\n",
    "        \n",
    "        store_top_players(df_cur_grp_1,df_next_grp_1,common_top_players_cur_mul_points_1,common_top_players_points_1)\n",
    "        store_top_players(df_cur_grp_2,df_next_grp_2,common_top_players_cur_mul_points_2,common_top_players_points_2)\n",
    "        store_top_players(df_cur_grp_3,df_next_grp_3,common_top_players_cur_mul_points_3,common_top_players_points_3)\n",
    "        store_top_players(df_cur_grp_4,df_next_grp_4,common_top_players_cur_mul_points_4,common_top_players_points_4)\n",
    "        \n",
    "        \n",
    "        regression_elem_typewise(df_cur_grp_1,df_next_grp_1,top_players_pred_1)\n",
    "        regression_elem_typewise(df_cur_grp_2,df_next_grp_2,top_players_pred_2)\n",
    "        regression_elem_typewise(df_cur_grp_3,df_next_grp_3,top_players_pred_3)\n",
    "        regression_elem_typewise(df_cur_grp_4,df_next_grp_4,top_players_pred_4)\n",
    "        \n",
    "        df_cur_grp_1 = df_next_grp_1\n",
    "        df_cur_grp_2 = df_next_grp_2\n",
    "        df_cur_grp_3 = df_next_grp_3\n",
    "        df_cur_grp_4 = df_next_grp_4\n",
    "    except Exception as e:\n",
    "        pass"
   ]
  },
  {
   "cell_type": "code",
   "execution_count": 112,
   "id": "208b638a",
   "metadata": {},
   "outputs": [
    {
     "name": "stdout",
     "output_type": "stream",
     "text": [
      "{2: 45, 3: 48, 4: 44, 5: 49, 6: 48, 7: 50, 8: 48, 9: 47, 10: 46}\n"
     ]
    }
   ],
   "source": [
    "print(top_players_pred_1)"
   ]
  },
  {
   "cell_type": "code",
   "execution_count": 113,
   "id": "1897cef3",
   "metadata": {},
   "outputs": [
    {
     "name": "stdout",
     "output_type": "stream",
     "text": [
      "{2: 41, 3: 39, 4: 38, 5: 40, 6: 40, 7: 42, 8: 44, 9: 40, 10: 43}\n"
     ]
    }
   ],
   "source": [
    "print(top_players_pred_2)"
   ]
  },
  {
   "cell_type": "markdown",
   "id": "0fcc37c5",
   "metadata": {},
   "source": [
    "The per element_type data frame is sorted in descending order based on first the points and the points and ict index.\n",
    "The top 50 player ids were noted and they were compared with the sorted data based on points for the next gameweek.\n",
    "The below plots show the number of common players in the top 50"
   ]
  },
  {
   "cell_type": "code",
   "execution_count": 147,
   "id": "acfe0b70",
   "metadata": {},
   "outputs": [
    {
     "data": {
      "image/png": "[encoded data removed]",
      "text/plain": [
       "<Figure size 432x288 with 1 Axes>"
      ]
     },
     "metadata": {
      "needs_background": "light"
     },
     "output_type": "display_data"
    }
   ],
   "source": [
    "gameweek1 = list(common_top_players_cur_mul_points_1.keys())  \n",
    "common_players1 = list((common_top_players_cur_mul_points_1.values()))\n",
    "gameweek2 = list(common_top_players_cur_mul_points_2.keys())  \n",
    "common_players2 = list((common_top_players_cur_mul_points_2.values()))\n",
    "gameweek3 = list(common_top_players_cur_mul_points_3.keys())  \n",
    "common_players3 = list((common_top_players_cur_mul_points_3.values()))\n",
    "gameweek4 = list(common_top_players_cur_mul_points_4.keys())  \n",
    "common_players4 = list((common_top_players_cur_mul_points_4.values()))\n",
    "plt.xlabel('Gameweek')\n",
    "plt.ylabel('No of common players')\n",
    "plt.title('Ranked based on points and ICT Index')\n",
    "plt.ylim([0, 60])\n",
    "plt.plot(gameweek1, common_players1,marker=\"o\",ls='--')\n",
    "plt.plot(gameweek2, common_players2,marker=\"o\",ls='--')\n",
    "plt.plot(gameweek3, common_players3,marker=\"o\",ls='--')\n",
    "plt.plot(gameweek4, common_players4,marker=\"o\",ls='--')\n",
    "plt.legend((\"Goalkeeper\",\"Midfielder\",\"Defender\",\"Forward\"))\n",
    "plt.savefig(\"plot_points_ict.pdf\")\n",
    "plt.show()"
   ]
  },
  {
   "cell_type": "code",
   "execution_count": 148,
   "id": "707842f4",
   "metadata": {},
   "outputs": [
    {
     "data": {
      "image/png": "[encoded data removed]",
      "text/plain": [
       "<Figure size 432x288 with 1 Axes>"
      ]
     },
     "metadata": {
      "needs_background": "light"
     },
     "output_type": "display_data"
    }
   ],
   "source": [
    "gameweek1 = list(common_top_players_points_1.keys())  \n",
    "common_players1 = list((common_top_players_points_1.values()))\n",
    "gameweek2 = list(common_top_players_points_2.keys())  \n",
    "common_players2 = list((common_top_players_points_2.values()))\n",
    "gameweek3 = list(common_top_players_points_3.keys())  \n",
    "common_players3 = list((common_top_players_points_3.values()))\n",
    "gameweek4 = list(common_top_players_points_4.keys())  \n",
    "common_players4 = list((common_top_players_points_4.values()))\n",
    "plt.xlabel('Gameweek')\n",
    "plt.ylabel('No of common players')\n",
    "plt.title('Ranked based on points')\n",
    "plt.ylim([0, 60])\n",
    "plt.plot(gameweek1, common_players1,marker=\"o\",ls='--')\n",
    "plt.plot(gameweek2, common_players2,marker=\"o\",ls='--')\n",
    "plt.plot(gameweek3, common_players3,marker=\"o\",ls='--')\n",
    "plt.plot(gameweek4, common_players4,marker=\"o\",ls='--')\n",
    "plt.legend((\"Goalkeeper\",\"Midfielder\",\"Defender\",\"Forward\"))\n",
    "plt.savefig(\"plot_points.pdf\")\n",
    "plt.show()"
   ]
  },
  {
   "cell_type": "code",
   "execution_count": null,
   "id": "523dbb56",
   "metadata": {},
   "outputs": [],
   "source": []
  },
  {
   "cell_type": "code",
   "execution_count": 149,
   "id": "ea885f01",
   "metadata": {},
   "outputs": [
    {
     "data": {
      "image/png": "[encoded data removed]",
      "text/plain": [
       "<Figure size 432x288 with 1 Axes>"
      ]
     },
     "metadata": {
      "needs_background": "light"
     },
     "output_type": "display_data"
    }
   ],
   "source": [
    "gameweek1 = list(top_players_pred_1.keys())  \n",
    "common_players1 = list((top_players_pred_1.values()))\n",
    "gameweek2 = list(top_players_pred_2.keys())  \n",
    "common_players2 = list((top_players_pred_2.values()))\n",
    "gameweek3 = list(top_players_pred_3.keys())  \n",
    "common_players3 = list((top_players_pred_3.values()))\n",
    "gameweek4 = list(top_players_pred_4.keys())  \n",
    "common_players4 = list((top_players_pred_4.values()))\n",
    "plt.xlabel('Gameweek')\n",
    "plt.ylabel('No of common players')\n",
    "plt.title('Ranked based on predicted points')\n",
    "plt.ylim([0, 60])\n",
    "plt.plot(gameweek1, common_players1,marker=\"o\",ls='--')\n",
    "plt.plot(gameweek2, common_players2,marker=\"o\",ls='--')\n",
    "plt.plot(gameweek3, common_players3,marker=\"o\",ls='--')\n",
    "plt.plot(gameweek4, common_players4,marker=\"o\",ls='--')\n",
    "plt.legend((\"Goalkeeper\",\"Midfielder\",\"Defender\",\"Forward\"))\n",
    "plt.savefig(\"plot_pred_points.pdf\")\n",
    "plt.show()"
   ]
  },
  {
   "cell_type": "code",
   "execution_count": 145,
   "id": "45cc0e67",
   "metadata": {},
   "outputs": [
    {
     "data": {
      "text/html": [
       "<div>\n",
       "<style scoped>\n",
       "    .dataframe tbody tr th:only-of-type {\n",
       "        vertical-align: middle;\n",
       "    }\n",
       "\n",
       "    .dataframe tbody tr th {\n",
       "        vertical-align: top;\n",
       "    }\n",
       "\n",
       "    .dataframe thead th {\n",
       "        text-align: right;\n",
       "    }\n",
       "</style>\n",
       "<table border=\"1\" class=\"dataframe\">\n",
       "  <thead>\n",
       "    <tr style=\"text-align: right;\">\n",
       "      <th></th>\n",
       "      <th>id</th>\n",
       "      <th>stats.bps</th>\n",
       "      <th>stats.influence</th>\n",
       "      <th>stats.creativity</th>\n",
       "      <th>stats.threat</th>\n",
       "      <th>stats.ict_index</th>\n",
       "      <th>stats.total_points</th>\n",
       "    </tr>\n",
       "  </thead>\n",
       "  <tbody>\n",
       "    <tr>\n",
       "      <th>0</th>\n",
       "      <td>277</td>\n",
       "      <td>61</td>\n",
       "      <td>106.2</td>\n",
       "      <td>35.9</td>\n",
       "      <td>59.0</td>\n",
       "      <td>20.1</td>\n",
       "      <td>20</td>\n",
       "    </tr>\n",
       "    <tr>\n",
       "      <th>1</th>\n",
       "      <td>233</td>\n",
       "      <td>49</td>\n",
       "      <td>70.6</td>\n",
       "      <td>36.4</td>\n",
       "      <td>70.0</td>\n",
       "      <td>17.7</td>\n",
       "      <td>17</td>\n",
       "    </tr>\n",
       "    <tr>\n",
       "      <th>2</th>\n",
       "      <td>272</td>\n",
       "      <td>46</td>\n",
       "      <td>74.8</td>\n",
       "      <td>60.0</td>\n",
       "      <td>15.0</td>\n",
       "      <td>15.0</td>\n",
       "      <td>16</td>\n",
       "    </tr>\n",
       "    <tr>\n",
       "      <th>3</th>\n",
       "      <td>122</td>\n",
       "      <td>46</td>\n",
       "      <td>56.0</td>\n",
       "      <td>35.5</td>\n",
       "      <td>29.0</td>\n",
       "      <td>12.1</td>\n",
       "      <td>15</td>\n",
       "    </tr>\n",
       "    <tr>\n",
       "      <th>4</th>\n",
       "      <td>527</td>\n",
       "      <td>37</td>\n",
       "      <td>45.4</td>\n",
       "      <td>7.0</td>\n",
       "      <td>11.0</td>\n",
       "      <td>6.3</td>\n",
       "      <td>14</td>\n",
       "    </tr>\n",
       "  </tbody>\n",
       "</table>\n",
       "</div>"
      ],
      "text/plain": [
       "    id  stats.bps  stats.influence  stats.creativity  stats.threat  \\\n",
       "0  277         61            106.2              35.9          59.0   \n",
       "1  233         49             70.6              36.4          70.0   \n",
       "2  272         46             74.8              60.0          15.0   \n",
       "3  122         46             56.0              35.5          29.0   \n",
       "4  527         37             45.4               7.0          11.0   \n",
       "\n",
       "   stats.ict_index  stats.total_points  \n",
       "0             20.1                  20  \n",
       "1             17.7                  17  \n",
       "2             15.0                  16  \n",
       "3             12.1                  15  \n",
       "4              6.3                  14  "
      ]
     },
     "execution_count": 145,
     "metadata": {},
     "output_type": "execute_result"
    }
   ],
   "source": [
    "df_data = pd.read_csv(f\"mergedweek_{1}.csv\")\n",
    "sorted_df = df_data.sort_values(['stats.total_points', 'stats.ict_index'], ascending=[False, False])\n",
    "sorted_df.reset_index(drop=True, inplace=True)\n",
    "sorted_df[['id','stats.bps','stats.influence','stats.creativity','stats.threat','stats.ict_index','stats.total_points']].head()"
   ]
  },
  {
   "cell_type": "code",
   "execution_count": null,
   "id": "2a69223f",
   "metadata": {},
   "outputs": [],
   "source": []
  }
 ],
 "metadata": {
  "kernelspec": {
   "display_name": "Python 3",
   "language": "python",
   "name": "python3"
  },
  "language_info": {
   "codemirror_mode": {
    "name": "ipython",
    "version": 3
   },
   "file_extension": ".py",
   "mimetype": "text/x-python",
   "name": "python",
   "nbconvert_exporter": "python",
   "pygments_lexer": "ipython3",
   "version": "3.8.8"
  }
 },
 "nbformat": 4,
 "nbformat_minor": 5
}
