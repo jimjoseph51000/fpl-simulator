{
  "nbformat": 4,
  "nbformat_minor": 0,
  "metadata": {
    "colab": {
      "name": "Player_Swapout_jj.ipynb",
      "provenance": [],
      "collapsed_sections": [],
      "authorship_tag": "ABX9TyOqHnghzdPg8n0oU8O+UfpS",
      "include_colab_link": true
    },
    "kernelspec": {
      "name": "python3",
      "display_name": "Python 3"
    },
    "language_info": {
      "name": "python"
    }
  },
  "cells": [
    {
      "cell_type": "markdown",
      "metadata": {
        "id": "view-in-github",
        "colab_type": "text"
      },
      "source": [
        "<a href=\"https://colab.research.google.com/github/jimjoseph51000/fpl-simulator/blob/main/Player_Swapout_jj.ipynb\" target=\"_parent\"><img src=\"https://colab.research.google.com/assets/colab-badge.svg\" alt=\"Open In Colab\"/></a>"
      ]
    },
    {
      "cell_type": "code",
      "metadata": {
        "id": "J_9hHJNlHsyq"
      },
      "source": [
        "import numpy as np\n",
        "import pandas as pd\n",
        "import requests, json\n",
        "from pprint import pprint"
      ],
      "execution_count": 1,
      "outputs": []
    },
    {
      "cell_type": "code",
      "metadata": {
        "colab": {
          "base_uri": "https://localhost:8080/"
        },
        "id": "CCSnpGXaH4d0",
        "outputId": "ce3752e1-2d87-4186-db50-84783cd3fb73"
      },
      "source": [
        "from google.colab import drive\n",
        "drive.mount('/gdrive')"
      ],
      "execution_count": 2,
      "outputs": [
        {
          "output_type": "stream",
          "name": "stdout",
          "text": [
            "Drive already mounted at /gdrive; to attempt to forcibly remount, call drive.mount(\"/gdrive\", force_remount=True).\n"
          ]
        }
      ]
    },
    {
      "cell_type": "code",
      "metadata": {
        "colab": {
          "base_uri": "https://localhost:8080/"
        },
        "id": "boX_mhQEH58-",
        "outputId": "7672fe55-3cb9-4568-d139-a91bacd6480f"
      },
      "source": [
        "% cd /gdrive/MyDrive/CSE_519_DSF/Project\\ -\\ FPL"
      ],
      "execution_count": 3,
      "outputs": [
        {
          "output_type": "stream",
          "name": "stdout",
          "text": [
            "/gdrive/MyDrive/CSE_519_DSF/Project - FPL\n"
          ]
        }
      ]
    },
    {
      "cell_type": "code",
      "metadata": {
        "id": "nYCqFDmHIPgH"
      },
      "source": [
        "import numpy as np\n",
        "import pandas as pd\n",
        "import os\n",
        "from matplotlib import pyplot as plt\n",
        "\n",
        "from simulator import *\n",
        "from model import *\n",
        "from scout import *\n",
        "# from util import *"
      ],
      "execution_count": 4,
      "outputs": []
    },
    {
      "cell_type": "code",
      "metadata": {
        "colab": {
          "base_uri": "https://localhost:8080/"
        },
        "id": "g0zyd7PpIToc",
        "outputId": "89d5b0d5-90fb-4018-892a-bb058123d185"
      },
      "source": [
        "# main code\n",
        "fpl_manager_id = '2757'\n",
        "current_week = 10\n",
        "env = FPLSimulator(current_week, fpl_manager_id, req_cols=['stats.ict_index','element_type'])\n",
        "\n",
        "# plot_pts = env.sample_visualization(10000)\n",
        "# print(plot_pts)"
      ],
      "execution_count": 5,
      "outputs": [
        {
          "output_type": "stream",
          "name": "stdout",
          "text": [
            "(620,) (620, 10) (620, 10) (2, 620, 10)\n",
            "cumsum of per_week_total_points:  [ 80. 166. 238. 297. 355. 401. 436. 484. 540. 588.]\n",
            "(15, 10) (15, 10) (15, 10) (2, 15, 10)\n"
          ]
        }
      ]
    },
    {
      "cell_type": "code",
      "metadata": {
        "colab": {
          "base_uri": "https://localhost:8080/"
        },
        "id": "aVnNnaWNKKdh",
        "outputId": "5d87d07f-3ca4-4302-dbf6-157f895bff29"
      },
      "source": [
        "min_balance = 50\n",
        "current_balance = 10\n",
        "K = 10\n",
        "for week_idx in range(10):\n",
        "  # week_idx = 0\n",
        "  \n",
        "\n",
        "  scout = Scout(env, week_idx, min_balance)\n",
        "  out_ids = scout.find_transfer_out_candidates(K)\n",
        "  in_ids = np.array([1,3,4,5,6,101,200,330,500,600])\n",
        "  _ , current_balance = scout.get_transfer_in_out_players(current_balance, in_ids, out_ids)\n",
        "  print(week_idx, current_balance)"
      ],
      "execution_count": 9,
      "outputs": [
        {
          "output_type": "stream",
          "name": "stdout",
          "text": [
            "0 60.0\n",
            "1 55.0\n",
            "2 61.0\n",
            "3 99.0\n",
            "4 94.0\n",
            "5 99.0\n",
            "6 81.0\n",
            "7 97.0\n",
            "8 109.0\n",
            "9 98.0\n"
          ]
        }
      ]
    },
    {
      "cell_type": "code",
      "metadata": {
        "colab": {
          "base_uri": "https://localhost:8080/"
        },
        "id": "YTrS_N_Jj8j-",
        "outputId": "44716df4-cf6d-4590-f6e2-d3a6bd5a1848"
      },
      "source": [
        "env.actual_player_other_data[1][:,week_idx]"
      ],
      "execution_count": 8,
      "outputs": [
        {
          "output_type": "execute_result",
          "data": {
            "text/plain": [
              "array(['GKP', 'DEF', 'DEF', 'DEF', 'MID', 'MID', 'MID', 'MID', 'FWD',\n",
              "       'FWD', 'FWD', 'GKP', 'DEF', 'DEF', 'MID'], dtype=object)"
            ]
          },
          "metadata": {},
          "execution_count": 8
        }
      ]
    },
    {
      "cell_type": "code",
      "metadata": {
        "colab": {
          "base_uri": "https://localhost:8080/"
        },
        "id": "lUzMgjdmkAD9",
        "outputId": "d8713697-8ecf-4011-cffd-ae3b68842a90"
      },
      "source": [
        "env.actual_players_ids[:,week_idx]"
      ],
      "execution_count": 9,
      "outputs": [
        {
          "output_type": "execute_result",
          "data": {
            "text/plain": [
              "array([ 30, 275, 418, 237, 233, 215, 289, 485, 413, 337, 177, 376, 245,\n",
              "       208, 145])"
            ]
          },
          "metadata": {},
          "execution_count": 9
        }
      ]
    },
    {
      "cell_type": "code",
      "metadata": {
        "colab": {
          "base_uri": "https://localhost:8080/"
        },
        "id": "c-8QFIAgknBK",
        "outputId": "3b508b9c-93c4-458e-ff9c-466810a8aa39"
      },
      "source": [
        "np.isin(env.actual_players_ids[:,week_idx],out_ids)"
      ],
      "execution_count": 10,
      "outputs": [
        {
          "output_type": "execute_result",
          "data": {
            "text/plain": [
              "array([ True,  True,  True, False, False, False, False,  True, False,\n",
              "       False, False,  True, False, False, False])"
            ]
          },
          "metadata": {},
          "execution_count": 10
        }
      ]
    },
    {
      "cell_type": "code",
      "metadata": {
        "colab": {
          "base_uri": "https://localhost:8080/"
        },
        "id": "EaTEqxHqhALl",
        "outputId": "837acea6-db7e-4468-8c8d-8deef6768c07"
      },
      "source": [
        "env.actual_player_other_data[1][:,week_idx][np.isin(env.actual_players_ids[:,week_idx],out_ids)]"
      ],
      "execution_count": 11,
      "outputs": [
        {
          "output_type": "execute_result",
          "data": {
            "text/plain": [
              "array(['GKP', 'DEF', 'DEF', 'MID', 'GKP'], dtype=object)"
            ]
          },
          "metadata": {},
          "execution_count": 11
        }
      ]
    },
    {
      "cell_type": "code",
      "metadata": {
        "colab": {
          "base_uri": "https://localhost:8080/"
        },
        "id": "TbSLJJYcWBW6",
        "outputId": "24cbb198-0a7d-4eff-de99-7412e859bab3"
      },
      "source": [
        "in_ids = np.array([1,3,4,5,6])\n",
        "env.all_player_other_data[1][:,week_idx][in_ids - 1]"
      ],
      "execution_count": 12,
      "outputs": [
        {
          "output_type": "execute_result",
          "data": {
            "text/plain": [
              "array(['GKP', 'MID', 'FWD', 'DEF', 'FWD'], dtype=object)"
            ]
          },
          "metadata": {},
          "execution_count": 12
        }
      ]
    },
    {
      "cell_type": "code",
      "metadata": {
        "colab": {
          "base_uri": "https://localhost:8080/"
        },
        "id": "r_8b694IVJCW",
        "outputId": "967071b0-d271-4026-8f47-6e74ef958db7"
      },
      "source": [
        "scout.get_transfer_in_out_players(current_balance, in_ids, out_ids)"
      ],
      "execution_count": 13,
      "outputs": [
        {
          "output_type": "stream",
          "name": "stdout",
          "text": [
            "[3] [485]\n",
            "[[ 20.  35.  70.  15.  55.]\n",
            " [-35. -20.  15. -40.   0.]\n",
            " [  5.  20.  55.   0.  40.]\n",
            " [ 10.  25.  60.   5.  45.]\n",
            " [  5.  20.  55.   0.  40.]]\n"
          ]
        },
        {
          "output_type": "execute_result",
          "data": {
            "text/plain": [
              "(array([[0, 0, 0, 0, 0, 0, 0, 0, 0, 0],\n",
              "        [0, 0, 0, 0, 0, 0, 0, 0, 0, 0],\n",
              "        [0, 0, 0, 0, 0, 0, 0, 0, 0, 0],\n",
              "        [0, 0, 0, 0, 0, 0, 0, 0, 0, 0],\n",
              "        [0, 0, 0, 0, 0, 0, 0, 0, 0, 0],\n",
              "        [0, 0, 0, 0, 0, 0, 0, 0, 0, 0],\n",
              "        [0, 0, 0, 0, 0, 0, 0, 0, 0, 0],\n",
              "        [3, 0, 0, 0, 0, 0, 0, 0, 0, 0],\n",
              "        [0, 0, 0, 0, 0, 0, 0, 0, 0, 0],\n",
              "        [0, 0, 0, 0, 0, 0, 0, 0, 0, 0],\n",
              "        [0, 0, 0, 0, 0, 0, 0, 0, 0, 0],\n",
              "        [0, 0, 0, 0, 0, 0, 0, 0, 0, 0],\n",
              "        [0, 0, 0, 0, 0, 0, 0, 0, 0, 0],\n",
              "        [0, 0, 0, 0, 0, 0, 0, 0, 0, 0],\n",
              "        [0, 0, 0, 0, 0, 0, 0, 0, 0, 0]]), 20.0)"
            ]
          },
          "metadata": {},
          "execution_count": 13
        }
      ]
    },
    {
      "cell_type": "code",
      "metadata": {
        "id": "FsI_pwx-VTaO"
      },
      "source": [
        "assert(0)"
      ],
      "execution_count": null,
      "outputs": []
    },
    {
      "cell_type": "code",
      "metadata": {
        "id": "ovvZHmfhLvxt"
      },
      "source": [
        "env.all_player_other_data_cols.index(\"element_type\")"
      ],
      "execution_count": null,
      "outputs": []
    },
    {
      "cell_type": "code",
      "metadata": {
        "id": "EOLVY9jmyNPG"
      },
      "source": [
        "test = np.zeros_like(env.actual_players_ids)\n",
        "test[env.actual_players_ids[:,0] == 233, 0] = 1"
      ],
      "execution_count": null,
      "outputs": []
    },
    {
      "cell_type": "code",
      "metadata": {
        "id": "4OckbPe31B8g"
      },
      "source": [
        "from "
      ],
      "execution_count": null,
      "outputs": []
    },
    {
      "cell_type": "code",
      "metadata": {
        "id": "TLJozAWeL5c0"
      },
      "source": [
        "env.actual_player_other_data.shape , env.all_player_other_data.shape, env.all_player_other_data_cols"
      ],
      "execution_count": null,
      "outputs": []
    },
    {
      "cell_type": "code",
      "metadata": {
        "id": "hdyuNxmpOetQ"
      },
      "source": [
        "def get_sortd_desc_players(fpl_manager_id,week_no):\n",
        "  r = requests.get('https://fantasy.premierleague.com/api/entry/'+str(fpl_manager_id)+'/event/'+'1'+'/picks/').json()\n",
        "  fpl_team = pd.json_normalize(r['picks'])\n",
        "  players_id_list = fpl_team['element'].tolist()\n",
        "  players_df_cost = players_df.loc[players_df['id'].isin(players_id_list), ['id','now_cost','element_type']]\n",
        "  r = requests.get(f\"https://fantasy.premierleague.com/api/event/{week_no}/live/\").json()\n",
        "  gw_player_df = pd.json_normalize(r['elements'])\n",
        "  merged_player_df = pd.merge(gw_player_df, players_df_cost, on=[\"id\"])\n",
        "  merged_player_df['ROI'] = merged_player_df['stats.total_points']/merged_player_df['now_cost']\n",
        "  sorted_team_players = merged_player_df.sort_values(['ROI','stats.ict_index'], ascending=[False, False])\n",
        "  return sorted_team_players"
      ],
      "execution_count": null,
      "outputs": []
    },
    {
      "cell_type": "code",
      "metadata": {
        "id": "ZwUXrsZDOra_"
      },
      "source": [
        "# make sure you this convertion to float since the original variable is in object type\n",
        "env.actual_player_other_data[0].astype('float')\n"
      ],
      "execution_count": null,
      "outputs": []
    },
    {
      "cell_type": "code",
      "metadata": {
        "id": "YAkslZiOSDxL"
      },
      "source": [
        "env.actual_player_other_data"
      ],
      "execution_count": null,
      "outputs": []
    },
    {
      "cell_type": "code",
      "metadata": {
        "id": "cFpSxPg2TQNd"
      },
      "source": [
        "# def rankings_table():\n",
        "roi = env.actual_players_points / env.actual_player_cost # (15,10)\n",
        "ict_index = env.actual_player_other_data[0].astype('float') # (15,10)\n",
        "# players_ranking_info = np.concatenate((roi[:,:,np.newaxis], ict_index[:,:,np.newaxis]), axis=2) # (15,10,2)\n"
      ],
      "execution_count": null,
      "outputs": []
    },
    {
      "cell_type": "code",
      "metadata": {
        "id": "ey4ya12nVZWN"
      },
      "source": [
        "# players_ranking_info[:,0,:].shape , players_ranking_info[:,0,:]"
      ],
      "execution_count": null,
      "outputs": []
    },
    {
      "cell_type": "code",
      "metadata": {
        "id": "6fYZDmgaT2Yi"
      },
      "source": [
        "# our current list of players\n",
        "env.actual_players_ids"
      ],
      "execution_count": null,
      "outputs": []
    },
    {
      "cell_type": "code",
      "metadata": {
        "id": "84YrqNEbX8A_"
      },
      "source": [
        "# sorted by roi\n",
        "roi_sort_idx = np.argsort(roi,axis=0)\n",
        "dates_idx = np.broadcast_to(np.arange(current_week), roi_sort_idx.shape)\n",
        "env.actual_players_ids[roi_sort_idx, dates_idx]"
      ],
      "execution_count": null,
      "outputs": []
    },
    {
      "cell_type": "code",
      "metadata": {
        "id": "-Nhy69_uaKQO"
      },
      "source": [
        "all_player_cost = pd.read_csv(\"Player_Cost_Weekwise/all_player_costs.csv\")\n",
        "# df_type = df_type.set_index(\"id\")\n",
        "# return df_type\n"
      ],
      "execution_count": null,
      "outputs": []
    },
    {
      "cell_type": "code",
      "metadata": {
        "id": "V2VU_UIueaz6"
      },
      "source": [
        "env.all_player_cost"
      ],
      "execution_count": null,
      "outputs": []
    },
    {
      "cell_type": "code",
      "metadata": {
        "id": "mccF2TYZfXsN"
      },
      "source": [
        "# all_player_cost.set_index([all_player_cost.index.astype(np.int)])\n",
        "all_player_cost.index = all_player_cost.index.map(int)\n"
      ],
      "execution_count": null,
      "outputs": []
    },
    {
      "cell_type": "code",
      "metadata": {
        "id": "M5unHMHfhO3Q"
      },
      "source": [
        "env.all_player_ids[:10]"
      ],
      "execution_count": null,
      "outputs": []
    },
    {
      "cell_type": "code",
      "metadata": {
        "id": "eN1yZZbRfkI_"
      },
      "source": [
        "all_player_cost.shape"
      ],
      "execution_count": null,
      "outputs": []
    },
    {
      "cell_type": "code",
      "metadata": {
        "id": "6EvO03fcc_yT"
      },
      "source": [
        "env.all_player_ids"
      ],
      "execution_count": null,
      "outputs": []
    },
    {
      "cell_type": "code",
      "metadata": {
        "id": "9oyGg7sOdIXX"
      },
      "source": [
        ""
      ],
      "execution_count": null,
      "outputs": []
    }
  ]
}